{
 "cells": [
  {
   "cell_type": "code",
   "execution_count": 1,
   "metadata": {
    "id": "RLDBefc6y4NQ"
   },
   "outputs": [],
   "source": [
    "import numpy as np"
   ]
  },
  {
   "cell_type": "code",
   "execution_count": 2,
   "metadata": {
    "id": "yvo4y8XC4OTc"
   },
   "outputs": [],
   "source": [
    "address = \"PROBLEM4.data\""
   ]
  },
  {
   "cell_type": "code",
   "execution_count": 3,
   "metadata": {
    "id": "7JAQ60f96-4A"
   },
   "outputs": [],
   "source": [
    "# This function uses given data to extract a list of particle coordinates\n",
    "def readLocation(fileAddress, n):\n",
    "    txt = open(fileAddress, \"r\")\n",
    "\n",
    "    coordinates = []\n",
    "\n",
    "    for x in txt:\n",
    "        # print(x)\n",
    "        if x[0] != \"#\":\n",
    "            temp = x.split()\n",
    "            location = np.array([float(temp[0]), float(temp[1]), float(temp[2])])\n",
    "            # print(velocity)\n",
    "            coordinates.append(location)\n",
    "\n",
    "    return np.vsplit(np.array(coordinates), n)"
   ]
  },
  {
   "cell_type": "code",
   "execution_count": 4,
   "metadata": {
    "id": "9vvFjgR-7oED"
   },
   "outputs": [],
   "source": [
    "def pot(r):\n",
    "    eps = 0.997\n",
    "    sig = 3.405\n",
    "    return 4*eps*((sig/r)**12 - (sig/r)**6)"
   ]
  },
  {
   "cell_type": "code",
   "execution_count": 5,
   "metadata": {
    "colab": {
     "base_uri": "https://localhost:8080/"
    },
    "id": "A-AEs5o37QZ0",
    "outputId": "50870275-3b19-4835-9cae-970e6dfc568e"
   },
   "outputs": [
    {
     "data": {
      "text/plain": [
       "365"
      ]
     },
     "execution_count": 5,
     "metadata": {},
     "output_type": "execute_result"
    }
   ],
   "source": [
    "s1, s2, s3, s4, s5 = readLocation(address, 5)\n",
    "len(s1)"
   ]
  },
  {
   "cell_type": "code",
   "execution_count": 6,
   "metadata": {
    "id": "1GhTnUelAgIa"
   },
   "outputs": [],
   "source": [
    "def minImgConv(s, i, j, L):\n",
    "    dx, dy, dz = (s[j][0] - s[i][0]), (s[j][1] - s[i][1]), (s[j][2] - s[i][2])\n",
    "\n",
    "    if dx > L/2: dx = dx - L \n",
    "    if dx <= -L/2: dx = dx + L\n",
    "    if dy > L/2: dy = dy - L\n",
    "    if dy <= -L/2: dy = dy + L\n",
    "    if dz > L/2: dz = dz - L\n",
    "    if dz <= -L/2: z = dz + L\n",
    "\n",
    "    return np.sqrt(dx**2 + dy**2 + dz**2)"
   ]
  },
  {
   "cell_type": "code",
   "execution_count": 7,
   "metadata": {
    "id": "fKudJGma87hk"
   },
   "outputs": [],
   "source": [
    "def totalPE(s, L):\n",
    "    ans = 0\n",
    "    for i in range(len(s) - 1):\n",
    "        for j in range(i + 1, len(s)):\n",
    "            r = minImgConv(s, i, j, L)\n",
    "            ans = ans + pot(r)\n",
    "    return ans"
   ]
  },
  {
   "cell_type": "code",
   "execution_count": 8,
   "metadata": {
    "colab": {
     "base_uri": "https://localhost:8080/"
    },
    "id": "zUoxINVTBj4z",
    "outputId": "59259e8b-608e-43df-861f-4496f4a9e17b"
   },
   "outputs": [
    {
     "name": "stdout",
     "output_type": "stream",
     "text": [
      "The Total Potential Energy of state 1: -2024.5630809347688\n",
      "The Total Potential Energy of state 2: -2003.2702624102935\n",
      "The Total Potential Energy of state 3: -2006.6601425125293\n",
      "The Total Potential Energy of state 4: -2018.1662939385058\n",
      "The Total Potential Energy of state 5: -2012.370615396599\n"
     ]
    }
   ],
   "source": [
    "print(\"The Total Potential Energy of state 1:\", totalPE(s1, 26))\n",
    "print(\"The Total Potential Energy of state 2:\", totalPE(s2, 26))\n",
    "print(\"The Total Potential Energy of state 3:\", totalPE(s3, 26))\n",
    "print(\"The Total Potential Energy of state 4:\", totalPE(s4, 26))\n",
    "print(\"The Total Potential Energy of state 5:\", totalPE(s5, 26))"
   ]
  }
 ],
 "metadata": {
  "colab": {
   "collapsed_sections": [],
   "provenance": []
  },
  "kernelspec": {
   "display_name": "Python 3 (ipykernel)",
   "language": "python",
   "name": "python3"
  },
  "language_info": {
   "codemirror_mode": {
    "name": "ipython",
    "version": 3
   },
   "file_extension": ".py",
   "mimetype": "text/x-python",
   "name": "python",
   "nbconvert_exporter": "python",
   "pygments_lexer": "ipython3",
   "version": "3.9.13"
  }
 },
 "nbformat": 4,
 "nbformat_minor": 1
}
